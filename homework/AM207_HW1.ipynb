{
 "cells": [
  {
   "cell_type": "markdown",
   "metadata": {},
   "source": [
    "# Homework 1 \n",
    "\n",
    "## AMPTH 207: Stochastic Methods for Data Analysis, Inference and Optimization\n",
    "\n",
    "**Due Date:** Thursday, Febrary 2nd, 2017 at 11:59pm\n",
    "\n",
    "**Instructions:**\n",
    "\n",
    "- Upload your final answers as well as your iPython notebook containing all work to Canvas.\n",
    "\n",
    "- Structure your notebook and your work to maximize readability."
   ]
  },
  {
   "cell_type": "markdown",
   "metadata": {},
   "source": [
    "## Problem 1: Bayes Theorem\n",
    "\n",
    "**Coding not required**\n",
    "\n",
    "### Part A:\n",
    "Your child has been randomly selected for Type I diabetes screening, using a highly accurate new test that boasts of a false positive rate of 1% and a false negative rate of 0%. The prevalence of of Type I diabetes in children is approximately 0.228%. Should your child test positive, what is the probability that he/she has Type I diabetes?\n",
    "\n",
    "Should you be concerned enough to ask for further testing or treatment for your child?\n",
    "\n",
    "Later, you read online that Type I diabetes is 6 times more prevalent in prematurely born children. If this statistic is true, what is the probability that your child, who is prematurely born, has Type I diabetes?\n",
    "\n",
    "Given the new information, should you be concerned enough to ask for further testing or treatment for your child?\n",
    "\n",
    "**Justify your decisions using your calculations.**"
   ]
  },
  {
   "cell_type": "markdown",
   "metadata": {},
   "source": [
    "### Answer:\n",
    "\n",
    "Given Bayes' Theorem: $$ p(y\\mid x) = \\frac{p(x\\mid y) \\, p(y) }{p(x)} = \\frac{p(x\\mid y) \\, p(y) }{\\sum_{y'} p(x,y')} = \\frac{p(x\\mid y) \\, p(y) }{\\sum_{y'} p(x\\mid y')p(y')}$$\n",
    "\n",
    "We adapt this to the probabilities of having Type I diabetes (D), not having type I diabetes aka healthy (H), testing positive (Y), and testing negative (N). These are given above and defined in code below."
   ]
  },
  {
   "cell_type": "code",
   "execution_count": 10,
   "metadata": {
    "collapsed": false
   },
   "outputs": [],
   "source": [
    "D = 0.00228\n",
    "H = 1 - D\n",
    "\n",
    "YH = 0.01 # P(Y|H), aka false positive rate\n",
    "ND = 0 # P(N|D), aka false negative rate\n",
    "YD = 1 - ND # P(Y|D), aka true positive; inverse of false negative\n",
    "NH = 1 - YH # P(N|H), aka true negative; inverse of false positive. Not used below."
   ]
  },
  {
   "cell_type": "markdown",
   "metadata": {},
   "source": [
    "To calculate the probability of my child having Type I diabetes given a positive test:\n",
    "\n",
    "$$ p(D\\mid Y) = \\frac{p(Y\\mid D) \\, p(D) }{p(Y)} = \\frac{p(Y\\mid D) \\, p(D) }{\\sum_{D'} p(Y\\mid D')p(D')}$$\n",
    "\n",
    "$$ = \\frac{p(Y\\mid D) \\, p(D) }{p(Y\\mid D) p(D) + p(Y\\mid H) p(H)}$$\n",
    "\n",
    "Let's calculate it using the values defined above."
   ]
  },
  {
   "cell_type": "code",
   "execution_count": 7,
   "metadata": {
    "collapsed": false
   },
   "outputs": [
    {
     "data": {
      "text/plain": [
       "0.18601311881995888"
      ]
     },
     "execution_count": 7,
     "metadata": {},
     "output_type": "execute_result"
    }
   ],
   "source": [
    "DY = (YD*D)/((YD*D)+(YH*H))\n",
    "DY # Probability of having disease given a positive test"
   ]
  },
  {
   "cell_type": "markdown",
   "metadata": {},
   "source": [
    "#### **Probability of child actually having Type I diabetes is 18.6%.** \n",
    "\n",
    "This is fairly low, but enough that I would probably ask for more testing. \n",
    "\n",
    "Now, upon the discovery that Type I diabetes is 6 times more prevalent in premature babies, this changes $D$ to $0.00228*6$, so it is now $D = 0.01368$. Correspondingly, we must update $H$ to $1 - D$."
   ]
  },
  {
   "cell_type": "code",
   "execution_count": 9,
   "metadata": {
    "collapsed": false
   },
   "outputs": [
    {
     "data": {
      "text/plain": [
       "0.5810594991335077"
      ]
     },
     "execution_count": 9,
     "metadata": {},
     "output_type": "execute_result"
    }
   ],
   "source": [
    "D = 0.01368\n",
    "H = 1 - D\n",
    "\n",
    "DYpremature = (YD*D)/((YD*D)+(YH*H))\n",
    "DYpremature # Probability of having disease given a positive test, if a premature baby"
   ]
  },
  {
   "cell_type": "markdown",
   "metadata": {},
   "source": [
    "#### **There is a 58.1% chance that the positive test is correct.**\n",
    "\n",
    "At this point I would absolutely ask for further testing or treatment, given the severe complications that can arise from untreated Type I diabetes."
   ]
  },
  {
   "cell_type": "markdown",
   "metadata": {},
   "source": [
    "### Part B:\n",
    "\n",
    "During shopping week, you're trying to decide between two classes based on the criteria that the class must have a lenient grading system. You hear from your friends that one of these classes is rumored to award grades lower than the work merits 35% of the time while the other awards lower grades 15% of the time. However, the rumor doesn't specify which class has harsher grading. So, you decide to conduct an experiment: submit an assignment to be graded. \n",
    "\n",
    "Fortunately, both classes offer an optional Homework 0 that is graded as extra credit. Unfortunately, you only have time to complete the problem set for just one of these classes. \n",
    "\n",
    "Suppose you randomly pick the Homework 0 from Class A to complete and suppose that you received a grade that you believe is lower than the quality of your work warrents. Based on this evidence, what is the probability that Class A has the harsher grading system? Which class should you drop based on the results of your experiment (or do you not have sufficient evidence to decide)?\n",
    "\n",
    "**Justify your decisions using your calculations.**"
   ]
  },
  {
   "cell_type": "markdown",
   "metadata": {},
   "source": [
    "### Answer:\n",
    "\n",
    "Let's assign our mystery classes the designations Class Hard (15%  of the time, the grade is lower) and Class Harder (35% of the time, the grade is lower). \n",
    "\n",
    "The probability of getting a low grade is therefore as follows:\n",
    "\n",
    "$p(low \\mid hard) = 0.15$\n",
    "\n",
    "$p(low \\mid harder) = 0.35$\n",
    "\n",
    "We know that there are two classes and we've chosen one by random, so:\n",
    "\n",
    "$p(hard) = 0.5$ \n",
    "\n",
    "$p(harder) = 0.5$.\n",
    "\n",
    "To calculate the probability of Class A being harder, given what we believe to be an unfairly low grade on Homework 0, we again use Bayes' Theorem. \n",
    "\n",
    "$$ p(harder\\mid low) = \\frac{p(low\\mid harder) \\, p(harder) }{p(low\\mid harder) p(harder) + p(low\\mid hard) p(hard)}$$"
   ]
  },
  {
   "cell_type": "code",
   "execution_count": 12,
   "metadata": {
    "collapsed": false
   },
   "outputs": [
    {
     "data": {
      "text/plain": [
       "0.7"
      ]
     },
     "execution_count": 12,
     "metadata": {},
     "output_type": "execute_result"
    }
   ],
   "source": [
    "LHard = 0.15\n",
    "LHarder = 0.35\n",
    "Hard = 0.5\n",
    "Harder = 0.5\n",
    "\n",
    "isHarsher = (LHarder*Harder)/((LHarder*Harder)+(LHard*Hard))\n",
    "isHarsher # What is the probability that Class A is the harsher grading system?"
   ]
  },
  {
   "cell_type": "markdown",
   "metadata": {},
   "source": [
    "#### **There is a 70% chance that Class A has the harsher grading system.** \n",
    "\n",
    "This assumes I have correctly determined that my work deserves a higher grade (which is debatable). This also assumes that the the magnitude of the unwarranted score drop is similar between the two courses. All else being equal, if I were determined to drop one of these courses, **I would drop Course A.** "
   ]
  },
  {
   "cell_type": "markdown",
   "metadata": {},
   "source": [
    "## Problem 2: Maximum Likelihood Estimates\n",
    "\n",
    "**Coding required for Part B only**\n",
    "\n",
    "Suppose you observe the following data set $\\mathbf{x}^{(0)} = (0.5, 2.5), \\mathbf{x}^{(1)} = (3.2, 1.3), \\mathbf{x}^{(2)} = (2.72, 5.84), \\mathbf{x}^{(3)}= (10.047, 0.354)$. By convention, for any vector $\\mathbf{x}$, we will denote the first component of $\\mathbf{x}$ by $x_{1}$ and the second component by $x_{2}$. Suppose that the data is drawn from the same two-dimensional probability distribution with pdf $f_X$, that is, $\\mathbf{x}^{(i)} \\overset{iid}{\\sim} f_X$, where\n",
    "$$\n",
    "f_X(\\mathbf{x}) =  4\\lambda_1^2 x_{1}x_{2} \\mathrm{exp} \\left\\{-\\lambda_0 (x^2_{1} + x^2_{2}) \\right\\}.\n",
    "$$\n",
    "You should assume that $\\lambda_1, \\lambda_0 > 0$ and that $f_X$ is supported on the nonnegative quandrant of $\\mathbb{R}^2$ (i.e. $f_X$ is zero when either component is negative). \n",
    "\n",
    "### Part A:\n",
    "\n",
    "What are the values for $\\lambda_0$ and $\\lambda_1$ that maximizes the likelihood of the observed data? \n",
    "\n",
    "**Support your answer with full and rigorous analytic derivations.**\n",
    "\n",
    "### Part B:\n",
    "\n",
    "Visualize the data along with the distribution you determined in part A (in two dimensions or three)."
   ]
  },
  {
   "cell_type": "markdown",
   "metadata": {},
   "source": [
    "## Problem 3: Frequentist Stats\n",
    "**Coding required**\n",
    "\n",
    "Read the data set contained in [Homework_1_Data.txt](Homework_1_Data.txt). Each data point is a two-dimensional vector, $\\mathbf{x} = (x_1, x_2)$.\n",
    "\n",
    "### Part (A): Visualization and Interpretation\n",
    "\n",
    "- Make a 2-D visualization the distribution of the data. \n",
    "\n",
    "- Visualize the the pdf, $f_X$, of the underlying distribution of the data.\n",
    "\n",
    "- Visualize the distribution defined by $f_{x_2 \\mid x_1}$ for $x_1 \\in [3.99, 4.01]$.\n",
    "\n",
    "- Visualize the distribution defined by $f_{x_1}$.\n",
    "\n",
    "\n",
    "### Part (B): Estimation\n",
    "\n",
    "- Empirically estimate the mean of the distribution $f_{x_1}$. Estimate, also the SE (standard error) of the estimate.\n",
    "\n",
    "- Empirically estimate the standard deviation of the distribution $f_{x_2 \\mid x_1}$, for $x_1 \\in [3.99, 4.01]$. Estimate, also the SE (standard error) of the estimate.\n",
    "\n",
    "- Given the SE, How many digits in your standard deviation estimate are significant? Explain why."
   ]
  }
 ],
 "metadata": {
  "anaconda-cloud": {},
  "kernelspec": {
   "display_name": "Python [conda root]",
   "language": "python",
   "name": "conda-root-py"
  },
  "language_info": {
   "codemirror_mode": {
    "name": "ipython",
    "version": 3
   },
   "file_extension": ".py",
   "mimetype": "text/x-python",
   "name": "python",
   "nbconvert_exporter": "python",
   "pygments_lexer": "ipython3",
   "version": "3.5.2"
  }
 },
 "nbformat": 4,
 "nbformat_minor": 1
}
